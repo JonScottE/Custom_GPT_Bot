{
 "cells": [
  {
   "cell_type": "code",
   "execution_count": 24,
   "id": "c44599e9-a490-48fb-a947-ca6b6c52d09f",
   "metadata": {},
   "outputs": [
    {
     "name": "stdout",
     "output_type": "stream",
     "text": [
      "Requirement already satisfied: openai in c:\\users\\16177\\anaconda3\\lib\\site-packages (0.27.2)\n",
      "Requirement already satisfied: aiohttp in c:\\users\\16177\\anaconda3\\lib\\site-packages (from openai) (3.8.4)\n",
      "Requirement already satisfied: tqdm in c:\\users\\16177\\anaconda3\\lib\\site-packages (from openai) (4.62.3)\n",
      "Requirement already satisfied: requests>=2.20 in c:\\users\\16177\\anaconda3\\lib\\site-packages (from openai) (2.26.0)\n",
      "Requirement already satisfied: charset-normalizer~=2.0.0 in c:\\users\\16177\\anaconda3\\lib\\site-packages (from requests>=2.20->openai) (2.0.4)\n",
      "Requirement already satisfied: certifi>=2017.4.17 in c:\\users\\16177\\anaconda3\\lib\\site-packages (from requests>=2.20->openai) (2021.10.8)\n",
      "Requirement already satisfied: urllib3<1.27,>=1.21.1 in c:\\users\\16177\\anaconda3\\lib\\site-packages (from requests>=2.20->openai) (1.26.7)\n",
      "Requirement already satisfied: idna<4,>=2.5 in c:\\users\\16177\\anaconda3\\lib\\site-packages (from requests>=2.20->openai) (3.2)\n",
      "Requirement already satisfied: async-timeout<5.0,>=4.0.0a3 in c:\\users\\16177\\anaconda3\\lib\\site-packages (from aiohttp->openai) (4.0.2)\n",
      "Requirement already satisfied: attrs>=17.3.0 in c:\\users\\16177\\anaconda3\\lib\\site-packages (from aiohttp->openai) (21.2.0)\n",
      "Requirement already satisfied: aiosignal>=1.1.2 in c:\\users\\16177\\anaconda3\\lib\\site-packages (from aiohttp->openai) (1.3.1)\n",
      "Requirement already satisfied: multidict<7.0,>=4.5 in c:\\users\\16177\\anaconda3\\lib\\site-packages (from aiohttp->openai) (6.0.4)\n",
      "Requirement already satisfied: frozenlist>=1.1.1 in c:\\users\\16177\\anaconda3\\lib\\site-packages (from aiohttp->openai) (1.3.3)\n",
      "Requirement already satisfied: yarl<2.0,>=1.0 in c:\\users\\16177\\anaconda3\\lib\\site-packages (from aiohttp->openai) (1.8.2)\n",
      "Requirement already satisfied: colorama in c:\\users\\16177\\anaconda3\\lib\\site-packages (from tqdm->openai) (0.4.4)\n",
      "Requirement already satisfied: python-dotenv in c:\\users\\16177\\anaconda3\\lib\\site-packages (0.19.2)\n"
     ]
    }
   ],
   "source": [
    "!pip install openai\n",
    "!pip install python-dotenv\n",
    "\n",
    "\n",
    "\n",
    "import openai\n",
    "import os\n",
    "import dotenv"
   ]
  },
  {
   "cell_type": "code",
   "execution_count": 25,
   "id": "2ec90819-b01f-4c6b-ae9e-c4666b50aa0b",
   "metadata": {},
   "outputs": [],
   "source": [
    "# set up the API key\n",
    "\n",
    "config = dotenv.dotenv_values(\".env\")\n",
    "openai.api_key = config['OPENAI_API_KEY']"
   ]
  },
  {
   "cell_type": "code",
   "execution_count": 26,
   "id": "b2f3815b-6e35-44d1-af51-55d9edaf1e40",
   "metadata": {},
   "outputs": [],
   "source": [
    "# Set the model and prompt\n",
    "model_engine = \"text-davinci-003\"\n",
    "prompt = \"Write a blog on ChatGPT\"\n"
   ]
  },
  {
   "cell_type": "code",
   "execution_count": 27,
   "id": "fc09fd1e-0efa-4598-a756-878380fa1a10",
   "metadata": {},
   "outputs": [],
   "source": [
    "\n",
    "# Set the maximum number of tokens to generate in the response\n",
    "max_tokens = 1024\n",
    "\n"
   ]
  },
  {
   "cell_type": "code",
   "execution_count": 28,
   "id": "9ca4490a-0481-435f-9a40-599d14d9f1d9",
   "metadata": {},
   "outputs": [],
   "source": [
    "# Generate a response\n",
    "completion = openai.Completion.create(\n",
    "    engine=model_engine,\n",
    "    prompt=prompt,\n",
    "    max_tokens=max_tokens,\n",
    "    temperature=0.5,\n",
    "    top_p=1,\n",
    "    frequency_penalty=0,\n",
    "    presence_penalty=0\n",
    ")\n"
   ]
  },
  {
   "cell_type": "code",
   "execution_count": 29,
   "id": "0c5d112e-5439-4a1a-b887-c56ea7e88daf",
   "metadata": {},
   "outputs": [
    {
     "name": "stdout",
     "output_type": "stream",
     "text": [
      "\n",
      "\n",
      "ChatGPT is a new artificial intelligence (AI) technology that is revolutionizing the way people communicate online. It is a chatbot that uses natural language processing (NLP) to understand and respond to user input.\n",
      "\n",
      "ChatGPT is based on the GPT-3 AI model, which is a powerful language model developed by OpenAI. GPT-3 is trained on a large corpus of text to understand and generate human-like conversations.\n",
      "\n",
      "ChatGPT is designed to be a conversational AI that can engage in meaningful conversations with users. It can understand user input and generate thoughtful responses. It can also be used to create interactive experiences such as virtual assistants, customer service bots, and more.\n",
      "\n",
      "ChatGPT is a powerful tool for businesses looking to engage with their customers in a more natural and personalized way. It can be used to provide customer support, answer FAQs, and even provide personalized product recommendations.\n",
      "\n",
      "ChatGPT is also being used to create virtual assistants for online businesses. These virtual assistants can help customers navigate a website, answer questions, and provide product recommendations.\n",
      "\n",
      "ChatGPT is an exciting new technology that is transforming the way people communicate online. It is revolutionizing the way businesses interact with their customers and creating new opportunities for businesses to engage with their customers in a more meaningful way.\n"
     ]
    }
   ],
   "source": [
    "# Print the response\n",
    "print(completion.choices[0].text)\n"
   ]
  },
  {
   "cell_type": "code",
   "execution_count": null,
   "id": "750ddadd-b073-4568-b747-bc82ff88de31",
   "metadata": {},
   "outputs": [],
   "source": []
  },
  {
   "cell_type": "code",
   "execution_count": null,
   "id": "4a0e2e97-bdf3-47b1-966b-b46adbd77536",
   "metadata": {},
   "outputs": [],
   "source": []
  }
 ],
 "metadata": {
  "kernelspec": {
   "display_name": "Python 3 (ipykernel)",
   "language": "python",
   "name": "python3"
  },
  "language_info": {
   "codemirror_mode": {
    "name": "ipython",
    "version": 3
   },
   "file_extension": ".py",
   "mimetype": "text/x-python",
   "name": "python",
   "nbconvert_exporter": "python",
   "pygments_lexer": "ipython3",
   "version": "3.9.7"
  }
 },
 "nbformat": 4,
 "nbformat_minor": 5
}
