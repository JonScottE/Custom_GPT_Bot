{
  "nbformat": 4,
  "nbformat_minor": 0,
  "metadata": {
    "colab": {
      "provenance": [],
      "authorship_tag": "ABX9TyMpQxOm7Dzpj1wLxQc1USmM",
      "include_colab_link": true
    },
    "kernelspec": {
      "name": "python3",
      "display_name": "Python 3"
    },
    "language_info": {
      "name": "python"
    }
  },
  "cells": [
    {
      "cell_type": "markdown",
      "metadata": {
        "id": "view-in-github",
        "colab_type": "text"
      },
      "source": [
        "<a href=\"https://colab.research.google.com/github/JonScottE/Custom_GPT_Bot/blob/main/Custom_GPT_Bot.ipynb\" target=\"_parent\"><img src=\"https://colab.research.google.com/assets/colab-badge.svg\" alt=\"Open In Colab\"/></a>"
      ]
    },
    {
      "cell_type": "code",
      "execution_count": null,
      "metadata": {
        "id": "FuT2NY34mYbV"
      },
      "outputs": [],
      "source": [
        "import openai\n",
        "import os\n",
        "\n"
      ]
    },
    {
      "cell_type": "code",
      "source": [
        "# set up the API key\n",
        "openai.api_key = os.environ[\"OPENAI_API_KEY\"]\n",
        "\n",
        "\n"
      ],
      "metadata": {
        "id": "wgF5e-bMoJ69"
      },
      "execution_count": null,
      "outputs": []
    },
    {
      "cell_type": "code",
      "source": [
        "# Set the model and prompt\n",
        "model_engine = \"text-davinci-003\"\n",
        "prompt = \"Write a blog on ChatGPT\"\n",
        "\n",
        "\n"
      ],
      "metadata": {
        "id": "dBwVB898oKCl"
      },
      "execution_count": null,
      "outputs": []
    },
    {
      "cell_type": "code",
      "source": [
        "\n",
        "\n",
        "# Set the maximum number of tokens to generate in the response\n",
        "max_tokens = 1024\n",
        "\n",
        "\n"
      ],
      "metadata": {
        "id": "X8dwEtRSoKFp"
      },
      "execution_count": null,
      "outputs": []
    },
    {
      "cell_type": "code",
      "source": [
        "# Generate a response\n",
        "completion = openai.Completion.create(\n",
        "    engine=model_engine,\n",
        "    prompt=prompt,\n",
        "    max_tokens=max_tokens,\n",
        "    temperature=0.5,\n",
        "    top_p=1,\n",
        "    frequency_penalty=0,\n",
        "    presence_penalty=0\n",
        ")\n",
        "\n"
      ],
      "metadata": {
        "id": "7nAC4JYFoSXv"
      },
      "execution_count": null,
      "outputs": []
    },
    {
      "cell_type": "code",
      "source": [
        "# Print the response\n",
        "print(completion.choices[0].text)\n",
        "\n"
      ],
      "metadata": {
        "id": "4SA2npZaoSbe"
      },
      "execution_count": null,
      "outputs": []
    },
    {
      "cell_type": "code",
      "source": [],
      "metadata": {
        "id": "rskoINKuoSe4"
      },
      "execution_count": null,
      "outputs": []
    }
  ]
}